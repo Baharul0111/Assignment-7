{
 "cells": [
  {
   "cell_type": "code",
   "execution_count": 7,
   "id": "d84719c2",
   "metadata": {},
   "outputs": [
    {
     "data": {
      "text/plain": [
       "689118639831180913138973540352000"
      ]
     },
     "execution_count": 7,
     "metadata": {},
     "output_type": "execute_result"
    }
   ],
   "source": [
    "#question 1\n",
    "list1 = [1,2,3,4, [44,55,66, True], False, (34,56,78,89,34), {1,2,3,3,2,1}, {1:34, \"key2\": [55, 67, 78, 89], 4: (45, 22, 61, 34)}, [56, 'data science'], 'Machine Learning']\n",
    "\n",
    "def product_of_all(l):\n",
    "    product=1\n",
    "    for i in range(len(l)):\n",
    "        if type(l[i])==int or type(l[i])==float:\n",
    "            product*=l[i]\n",
    "        elif type(l[i])==list:\n",
    "            for j in l[i]:\n",
    "                if type(j)==int or type(j)==float:\n",
    "                    product*=j\n",
    "        elif type(l[i])==tuple:\n",
    "            for j in l[i]:\n",
    "                if type(j)==int or type(j)==float:\n",
    "                    product*=j\n",
    "        elif type(l[i])==set:\n",
    "            element=l[i].pop()\n",
    "            if type(element)==int or type(element)==float:\n",
    "                product*=element\n",
    "        elif type(l[i])==dict:\n",
    "            for j in l[i].keys():\n",
    "                if type(j)==int or type(j)==float:\n",
    "                    product*=j\n",
    "            for j in l[i].values():\n",
    "                if type(j)==int or type(j)==float:\n",
    "                    product*=j\n",
    "                elif type(j)==list:\n",
    "                    for k in j:\n",
    "                        if type(k)==int or type(k)==float:\n",
    "                            product*=k\n",
    "                elif type(j)==tuple:\n",
    "                    for k in j:\n",
    "                        if type(k)==int or type(k)==float:\n",
    "                            product*=k\n",
    "                elif type(j)==set:\n",
    "                    ele=j.pop()\n",
    "                    if type(ele)==int or type(ele)==float:\n",
    "                        product*=ele\n",
    "    return product\n",
    "\n",
    "product_of_all(list1)\n"
   ]
  },
  {
   "cell_type": "code",
   "execution_count": 23,
   "id": "8f9fca17",
   "metadata": {},
   "outputs": [
    {
     "name": "stdout",
     "output_type": "stream",
     "text": [
      "Enter your sentence: I want to become Data Science Engineer\n",
      "Encrypted form:  i$wznt$to$yexome$dztz$sxienxe$engineer\n"
     ]
    }
   ],
   "source": [
    "#question 2\n",
    "sentence=input(\"Enter your sentence: \")\n",
    "sentence=sentence.lower()\n",
    "new_sentence=\"\"\n",
    "for i in sentence:\n",
    "    if i=='a':\n",
    "        new_sentence+='z'\n",
    "    elif i=='b':\n",
    "        new_sentence+='y'\n",
    "    elif i=='c':\n",
    "        new_sentence+='x'\n",
    "    elif i==' ':\n",
    "        new_sentence+='$'\n",
    "    else:\n",
    "        new_sentence+=i\n",
    "print(\"Encrypted form: \", new_sentence)"
   ]
  }
 ],
 "metadata": {
  "kernelspec": {
   "display_name": "Python 3 (ipykernel)",
   "language": "python",
   "name": "python3"
  },
  "language_info": {
   "codemirror_mode": {
    "name": "ipython",
    "version": 3
   },
   "file_extension": ".py",
   "mimetype": "text/x-python",
   "name": "python",
   "nbconvert_exporter": "python",
   "pygments_lexer": "ipython3",
   "version": "3.11.5"
  }
 },
 "nbformat": 4,
 "nbformat_minor": 5
}
